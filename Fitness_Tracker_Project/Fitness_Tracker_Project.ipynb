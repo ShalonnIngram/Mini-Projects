{
 "cells": [
  {
   "cell_type": "code",
   "execution_count": 1,
   "id": "062ba45c",
   "metadata": {},
   "outputs": [],
   "source": [
    "from os import environ"
   ]
  },
  {
   "cell_type": "code",
   "execution_count": 2,
   "id": "93f4d323",
   "metadata": {},
   "outputs": [],
   "source": [
    "pyspark_args_str = \"\"\n",
    "pyspark_args_str += '--packages \"io.delta:delta-core_2.12:1.0.0\" '\n",
    "pyspark_args_str += '--conf \"spark.sql.extensions=io.delta.sql.DeltaSparkSessionExtension\" '\n",
    "pyspark_args_str += '--conf \"spark.sql.catalog.spark_catalog=org.apache.spark.sql.delta.catalog.DeltaCatalog\" '\n",
    "pyspark_args_str += 'pyspark-shell'"
   ]
  },
  {
   "cell_type": "code",
   "execution_count": 3,
   "id": "d9a3277d",
   "metadata": {},
   "outputs": [
    {
     "data": {
      "text/plain": [
       "'--packages \"io.delta:delta-core_2.12:1.0.0\" --conf \"spark.sql.extensions=io.delta.sql.DeltaSparkSessionExtension\" --conf \"spark.sql.catalog.spark_catalog=org.apache.spark.sql.delta.catalog.DeltaCatalog\" pyspark-shell'"
      ]
     },
     "execution_count": 3,
     "metadata": {},
     "output_type": "execute_result"
    }
   ],
   "source": [
    "pyspark_args_str"
   ]
  },
  {
   "cell_type": "code",
   "execution_count": 4,
   "id": "aa152c54",
   "metadata": {},
   "outputs": [],
   "source": [
    "environ['PYSPARK_SUBMIT_ARGS'] = pyspark_args_str\n",
    "  \n",
    "from pyspark import sql\n",
    "\n",
    "spark = sql.SparkSession.builder \\\n",
    "        .master(\"local[8]\") \\\n",
    "        .getOrCreate()\n",
    "\n",
    "\n",
    "def display(dataframe):\n",
    "    return dataframe.show()"
   ]
  },
  {
   "cell_type": "code",
   "execution_count": 5,
   "id": "edf2735c",
   "metadata": {},
   "outputs": [
    {
     "data": {
      "text/html": [
       "\n",
       "            <div>\n",
       "                <p><b>SparkSession - in-memory</b></p>\n",
       "                \n",
       "        <div>\n",
       "            <p><b>SparkContext</b></p>\n",
       "\n",
       "            <p><a href=\"http://0111b99da548:4042\">Spark UI</a></p>\n",
       "\n",
       "            <dl>\n",
       "              <dt>Version</dt>\n",
       "                <dd><code>v3.1.2</code></dd>\n",
       "              <dt>Master</dt>\n",
       "                <dd><code>local[8]</code></dd>\n",
       "              <dt>AppName</dt>\n",
       "                <dd><code>pyspark-shell</code></dd>\n",
       "            </dl>\n",
       "        </div>\n",
       "        \n",
       "            </div>\n",
       "        "
      ],
      "text/plain": [
       "<pyspark.sql.session.SparkSession at 0x7f9384776730>"
      ]
     },
     "execution_count": 5,
     "metadata": {},
     "output_type": "execute_result"
    }
   ],
   "source": [
    "spark"
   ]
  },
  {
   "cell_type": "markdown",
   "id": "41eb91a5",
   "metadata": {},
   "source": [
    "#### 1. Import Jan 2020 - May 2020 & late Feb 2020 data from the S3 bucket"
   ]
  },
  {
   "cell_type": "code",
   "execution_count": 6,
   "id": "1e37eb00",
   "metadata": {},
   "outputs": [],
   "source": [
    "from pyspark.sql.session import SparkSession\n",
    "from urllib.request import urlretrieve\n",
    "import time\n",
    "\n",
    "BASE_URL = \"https://hadoop-and-big-data.s3-us-west-2.amazonaws.com/fitness-tracker/\""
   ]
  },
  {
   "cell_type": "code",
   "execution_count": 7,
   "id": "4012bf09",
   "metadata": {},
   "outputs": [],
   "source": [
    "def _generate_file_handles(year: int, month: int, filePath: str, is_late: bool):\n",
    "    \"\"\"\n",
    "    if the file is late, add late to the end of the file path name, if not, return the file & filepath\n",
    "    \"\"\"\n",
    "    late = \"\"\n",
    "    if is_late:\n",
    "        late = \"_late\"\n",
    "    file = f\"health_tracker_data_{year}_{month}{late}.json\"\n",
    "    \n",
    "    dbfsPath = \"\"\n",
    "    if is_late:\n",
    "        dbfsPath += \"late/\"\n",
    "    filePath += file\n",
    "\n",
    "    return file, filePath"
   ]
  },
  {
   "cell_type": "code",
   "execution_count": 8,
   "id": "39dbb15a",
   "metadata": {},
   "outputs": [],
   "source": [
    "def retrieve_data(year: int, month: int, filePath: str, is_late: bool = False) -> bool:\n",
    "    file, filePath = _generate_file_handles(year, month, filePath, is_late)\n",
    "    uri = BASE_URL + file\n",
    "\n",
    "    urlretrieve(uri, filePath)\n",
    "    return True"
   ]
  },
  {
   "cell_type": "code",
   "execution_count": 9,
   "id": "48a0ef86",
   "metadata": {},
   "outputs": [
    {
     "data": {
      "text/plain": [
       "True"
      ]
     },
     "execution_count": 9,
     "metadata": {},
     "output_type": "execute_result"
    }
   ],
   "source": [
    "# import january 2020 - may 2020 data\n",
    "retrieve_data(2020, 1, \"data/\")\n",
    "retrieve_data(2020, 2, \"data/\")\n",
    "retrieve_data(2020, 3, \"data/\")\n",
    "retrieve_data(2020, 4, \"data/\")\n",
    "retrieve_data(2020, 5, \"data/\")"
   ]
  },
  {
   "cell_type": "code",
   "execution_count": 10,
   "id": "47a6f27e",
   "metadata": {
    "scrolled": true
   },
   "outputs": [
    {
     "data": {
      "text/plain": [
       "True"
      ]
     },
     "execution_count": 10,
     "metadata": {},
     "output_type": "execute_result"
    }
   ],
   "source": [
    "# import late February 2020 data\n",
    "retrieve_data(2020, 2, \"data/\", True)"
   ]
  },
  {
   "cell_type": "code",
   "execution_count": 13,
   "id": "b93f87ed",
   "metadata": {},
   "outputs": [],
   "source": [
    "jan_df = spark.read.json(\"data/health_tracker_data_2020_1.json\")\n",
    "feb_df = spark.read.json(\"data/health_tracker_data_2020_2.json\")\n",
    "mar_df = spark.read.json(\"data/health_tracker_data_2020_3.json\")\n",
    "apr_df = spark.read.json(\"data/health_tracker_data_2020_4.json\")\n",
    "may_df = spark.read.json(\"data/health_tracker_data_2020_5.json\")\n",
    "feb_late_df = spark.read.json(\"data/health_tracker_data_2020_2.json\")"
   ]
  },
  {
   "cell_type": "code",
   "execution_count": 14,
   "id": "eb4d9c4e",
   "metadata": {},
   "outputs": [],
   "source": [
    "from pyspark.sql.functions import lit\n",
    "# add device_type column to jan 2020 data\n",
    "jan_new_df = jan_df.withColumn('device_type', lit('null'))\n",
    "jan_new_df = jan_new_df.select('device_id','device_type','heartrate', 'name', 'time' )\n",
    "\n",
    "# add device_type column to feb 2020 data \n",
    "feb_new_df = feb_df.withColumn('device_type', lit('null'))\n",
    "feb_new_df = feb_new_df.select('device_id','device_type','heartrate', 'name', 'time' )\n",
    "\n",
    "# add device_type column to feb_late 2020 data\n",
    "feb_late_new_df = feb_late_df.withColumn('device_type', lit('null'))\n",
    "feb_late_new_df = feb_late_new_df.select('device_id','device_type','heartrate', 'name', 'time' )"
   ]
  },
  {
   "cell_type": "markdown",
   "id": "c5f12cf8",
   "metadata": {},
   "source": [
    "#### 2. Merge all datasets into one dataframe"
   ]
  },
  {
   "cell_type": "code",
   "execution_count": 20,
   "id": "85067458-ec39-444d-80cd-447717aacf81",
   "metadata": {},
   "outputs": [
    {
     "name": "stdout",
     "output_type": "stream",
     "text": [
      "+---------+-----------+-------------+--------------+-----------+\n",
      "|device_id|device_type|    heartrate|          name|       time|\n",
      "+---------+-----------+-------------+--------------+-----------+\n",
      "|        0|       null|52.8139067501|Deborah Powell|1.5778368E9|\n",
      "|        0|       null|53.9078900098|Deborah Powell|1.5778404E9|\n",
      "|        0|       null|52.7129593616|Deborah Powell| 1.577844E9|\n",
      "|        0|       null|52.2880422685|Deborah Powell|1.5778476E9|\n",
      "|        0|       null|52.5156095386|Deborah Powell|1.5778512E9|\n",
      "|        0|       null|53.6280743846|Deborah Powell|1.5778548E9|\n",
      "|        0|       null|52.1760037066|Deborah Powell|1.5778584E9|\n",
      "|        0|       null|90.0456721836|Deborah Powell| 1.577862E9|\n",
      "|        0|       null|89.4695644522|Deborah Powell|1.5778656E9|\n",
      "|        0|       null|88.1490304138|Deborah Powell|1.5778692E9|\n",
      "|        0|       null|86.3092976213|Deborah Powell|1.5778728E9|\n",
      "|        0|       null|86.6672980008|Deborah Powell|1.5778764E9|\n",
      "|        0|       null|89.2044154758|Deborah Powell|  1.57788E9|\n",
      "|        0|       null|88.8691678316|Deborah Powell|1.5778836E9|\n",
      "|        0|       null|87.7252170634|Deborah Powell|1.5778872E9|\n",
      "|        0|       null|87.8357187561|Deborah Powell|1.5778908E9|\n",
      "|        0|       null|87.1769562648|Deborah Powell|1.5778944E9|\n",
      "|        0|       null|88.3403107931|Deborah Powell| 1.577898E9|\n",
      "|        0|       null|88.9083484735|Deborah Powell|1.5779016E9|\n",
      "|        0|       null| 87.921434203|Deborah Powell|1.5779052E9|\n",
      "+---------+-----------+-------------+--------------+-----------+\n",
      "only showing top 20 rows\n",
      "\n"
     ]
    }
   ],
   "source": [
    "df = jan_new_df.unionByName(feb_new_df).unionByName(feb_late_new_df).unionByName(mar_df).unionByName(apr_df).unionByName(may_df)\n",
    "df.show()"
   ]
  },
  {
   "cell_type": "code",
   "execution_count": 15,
   "id": "f4b4ee09",
   "metadata": {},
   "outputs": [
    {
     "data": {
      "text/plain": [
       "21576"
      ]
     },
     "execution_count": 15,
     "metadata": {},
     "output_type": "execute_result"
    }
   ],
   "source": [
    "df.count()"
   ]
  },
  {
   "cell_type": "code",
   "execution_count": 21,
   "id": "bf5a548d",
   "metadata": {},
   "outputs": [
    {
     "name": "stdout",
     "output_type": "stream",
     "text": [
      "+---------+-----------+-------------+--------------+-----------+-------------------+\n",
      "|device_id|device_type|    heartrate|          name|       time|          timestamp|\n",
      "+---------+-----------+-------------+--------------+-----------+-------------------+\n",
      "|        0|       null|52.8139067501|Deborah Powell|1.5778368E9|2020-01-01 00:00:00|\n",
      "|        0|       null|53.9078900098|Deborah Powell|1.5778404E9|2020-01-01 01:00:00|\n",
      "+---------+-----------+-------------+--------------+-----------+-------------------+\n",
      "only showing top 2 rows\n",
      "\n"
     ]
    }
   ],
   "source": [
    "from pyspark.sql import functions as f\n",
    "from pyspark.sql import types as t\n",
    "import datetime\n",
    "\n",
    "\n",
    "df = df.withColumn('timestamp', f.to_timestamp(df['time']))\n",
    "df.show(2)"
   ]
  },
  {
   "cell_type": "code",
   "execution_count": 22,
   "id": "c724db0d",
   "metadata": {},
   "outputs": [
    {
     "name": "stdout",
     "output_type": "stream",
     "text": [
      "+---------+-----------+-------------+--------------+-----------+-------------------+-----+\n",
      "|device_id|device_type|    heartrate|          name|       time|          timestamp|month|\n",
      "+---------+-----------+-------------+--------------+-----------+-------------------+-----+\n",
      "|        0|       null|52.8139067501|Deborah Powell|1.5778368E9|2020-01-01 00:00:00|    1|\n",
      "|        0|       null|53.9078900098|Deborah Powell|1.5778404E9|2020-01-01 01:00:00|    1|\n",
      "+---------+-----------+-------------+--------------+-----------+-------------------+-----+\n",
      "only showing top 2 rows\n",
      "\n"
     ]
    }
   ],
   "source": [
    "df = df.withColumn('month', f.month(df.timestamp))\n",
    "df.show(2)"
   ]
  },
  {
   "cell_type": "markdown",
   "id": "04fd4434",
   "metadata": {},
   "source": [
    "#### 3. Taking a closer look at February's data, James Hou is missing data from device 4"
   ]
  },
  {
   "cell_type": "code",
   "execution_count": 24,
   "id": "a818fd4d-4285-4a40-9fa8-d6d3cda59b28",
   "metadata": {},
   "outputs": [
    {
     "name": "stdout",
     "output_type": "stream",
     "text": [
      "+---------+-----------+--------------+--------------+-----------+\n",
      "|device_id|device_type|     heartrate|          name|       time|\n",
      "+---------+-----------+--------------+--------------+-----------+\n",
      "|        0|       null| 62.2867126811|Deborah Powell|1.5805152E9|\n",
      "|        0|       null| 63.9665968885|Deborah Powell|1.5805188E9|\n",
      "|        0|       null| 63.2519915361|Deborah Powell|1.5805224E9|\n",
      "|        0|       null| 63.3466351105|Deborah Powell| 1.580526E9|\n",
      "|        0|       null| 63.1314275489|Deborah Powell|1.5805296E9|\n",
      "|        0|       null| 61.8974468776|Deborah Powell|1.5805332E9|\n",
      "|        0|       null| 64.4935795659|Deborah Powell|1.5805368E9|\n",
      "|        0|       null| 61.8257249518|Deborah Powell|1.5805404E9|\n",
      "|        0|       null| 105.322579252|Deborah Powell| 1.580544E9|\n",
      "|        0|       null|103.5784363662|Deborah Powell|1.5805476E9|\n",
      "|        0|       null|103.8897782428|Deborah Powell|1.5805512E9|\n",
      "|        0|       null|104.3893140115|Deborah Powell|1.5805548E9|\n",
      "|        0|       null|105.6444258897|Deborah Powell|1.5805584E9|\n",
      "|        0|       null|105.0386607537|Deborah Powell| 1.580562E9|\n",
      "|        0|       null|104.4388727746|Deborah Powell|1.5805656E9|\n",
      "|        0|       null|105.0532481165|Deborah Powell|1.5805692E9|\n",
      "|        0|       null|103.5263026643|Deborah Powell|1.5805728E9|\n",
      "|        0|       null|103.3419107266|Deborah Powell|1.5805764E9|\n",
      "|        0|       null|104.4006219123|Deborah Powell|  1.58058E9|\n",
      "|        0|       null|105.4881753529|Deborah Powell|1.5805836E9|\n",
      "+---------+-----------+--------------+--------------+-----------+\n",
      "only showing top 20 rows\n",
      "\n"
     ]
    }
   ],
   "source": [
    "# merge February data with February late data\n",
    "feb_df = feb_new_df.unionByName(feb_late_new_df)\n",
    "feb_df.show()"
   ]
  },
  {
   "cell_type": "code",
   "execution_count": 25,
   "id": "5d3daa0a",
   "metadata": {},
   "outputs": [
    {
     "name": "stdout",
     "output_type": "stream",
     "text": [
      "+---------+-----+\n",
      "|device_id|count|\n",
      "+---------+-----+\n",
      "|        0| 4344|\n",
      "|        1| 4344|\n",
      "|        3| 4344|\n",
      "|        2| 4344|\n",
      "|        4| 4200|\n",
      "+---------+-----+\n",
      "\n"
     ]
    }
   ],
   "source": [
    "df.groupby(\"device_id\").count().show()"
   ]
  },
  {
   "cell_type": "code",
   "execution_count": 26,
   "id": "8fa08041",
   "metadata": {},
   "outputs": [
    {
     "name": "stdout",
     "output_type": "stream",
     "text": [
      "+-----+---------+-----+\n",
      "|month|device_id|count|\n",
      "+-----+---------+-----+\n",
      "|    3|        3|  744|\n",
      "|    1|        0|  744|\n",
      "|    5|        3|  744|\n",
      "|    5|        4|  744|\n",
      "|    5|        1|  744|\n",
      "|    3|        4|  744|\n",
      "|    4|        2|  720|\n",
      "|    1|        3|  744|\n",
      "|    3|        1|  744|\n",
      "|    2|        2| 1392|\n",
      "|    4|        0|  720|\n",
      "|    1|        4|  744|\n",
      "|    4|        1|  720|\n",
      "|    3|        2|  744|\n",
      "|    2|        4| 1248|\n",
      "|    1|        1|  744|\n",
      "|    2|        1| 1392|\n",
      "|    4|        4|  720|\n",
      "|    3|        0|  744|\n",
      "|    2|        3| 1392|\n",
      "+-----+---------+-----+\n",
      "only showing top 20 rows\n",
      "\n"
     ]
    }
   ],
   "source": [
    "df.groupby(['month','device_id']).count().show()"
   ]
  },
  {
   "cell_type": "code",
   "execution_count": 27,
   "id": "5931a96e-cd6b-49b1-a432-de760f3880e9",
   "metadata": {},
   "outputs": [
    {
     "name": "stdout",
     "output_type": "stream",
     "text": [
      "+---------+-----+\n",
      "|device_id|count|\n",
      "+---------+-----+\n",
      "|        0| 1392|\n",
      "|        1| 1392|\n",
      "|        3| 1392|\n",
      "|        2| 1392|\n",
      "|        4| 1248|\n",
      "+---------+-----+\n",
      "\n"
     ]
    }
   ],
   "source": [
    "feb_df.groupBy(\"device_id\").count().show()"
   ]
  },
  {
   "cell_type": "code",
   "execution_count": 28,
   "id": "235d7109",
   "metadata": {},
   "outputs": [
    {
     "name": "stdout",
     "output_type": "stream",
     "text": [
      "+--------------+-----+\n",
      "|          name|count|\n",
      "+--------------+-----+\n",
      "|     Sam Knopp| 1392|\n",
      "|     James Hou| 1248|\n",
      "|   Minh Nguyen| 1392|\n",
      "|Kristin Vasser| 1392|\n",
      "|Deborah Powell| 1392|\n",
      "+--------------+-----+\n",
      "\n"
     ]
    }
   ],
   "source": [
    "feb_df.groupBy(\"name\").count().show()"
   ]
  },
  {
   "cell_type": "markdown",
   "id": "5c168ce4",
   "metadata": {},
   "source": [
    "#### Heart Rate Analysis: I wanted to look at the heart rate ranges to see if data was ommitted but feb data is consistent with the remainder of the dataset"
   ]
  },
  {
   "cell_type": "code",
   "execution_count": 29,
   "id": "f238de6b",
   "metadata": {
    "scrolled": true
   },
   "outputs": [
    {
     "name": "stdout",
     "output_type": "stream",
     "text": [
      "+---------+---------------+--------------+\n",
      "|device_id|min_heartrate  |max_heartrate |\n",
      "+---------+---------------+--------------+\n",
      "|0        |-395.1306033635|186.4790827731|\n",
      "|1        |-226.4962764909|186.2081869555|\n",
      "|3        |-263.5045292615|218.7730128322|\n",
      "|2        |-323.6580551676|184.7433209566|\n",
      "|4        |-310.6998377211|185.2604814742|\n",
      "+---------+---------------+--------------+\n",
      "\n"
     ]
    }
   ],
   "source": [
    "no_feb = df.filter(df['month'] != 2)\n",
    "no_feb.groupBy(\"device_id\") \\\n",
    "    .agg(f.min(\"heartrate\").alias(\"min_heartrate\"), \\\n",
    "         f.max(\"heartrate\").alias(\"max_heartrate\"), \\\n",
    "    ) \\\n",
    "    .show(truncate=False)"
   ]
  },
  {
   "cell_type": "code",
   "execution_count": 30,
   "id": "d2af891c",
   "metadata": {
    "scrolled": true
   },
   "outputs": [
    {
     "name": "stdout",
     "output_type": "stream",
     "text": [
      "+---------+---------------+--------------+\n",
      "|device_id|min_heartrate  |max_heartrate |\n",
      "+---------+---------------+--------------+\n",
      "|0        |-218.062685331 |170.8754616576|\n",
      "|1        |-289.9324513412|165.8129031814|\n",
      "|3        |-179.6888893893|175.0032148522|\n",
      "|2        |-190.2847838357|189.2113455089|\n",
      "|4        |-138.2444236427|199.092971234 |\n",
      "+---------+---------------+--------------+\n",
      "\n"
     ]
    }
   ],
   "source": [
    "feb_df.groupBy(\"device_id\") \\\n",
    "    .agg(f.min(\"heartrate\").alias(\"min_heartrate\"), \\\n",
    "         f.max(\"heartrate\").alias(\"max_heartrate\"), \\\n",
    "    ) \\\n",
    "    .show(truncate=False)"
   ]
  },
  {
   "cell_type": "markdown",
   "id": "f818fee5",
   "metadata": {},
   "source": [
    "#### Timestamp Analysis: After taking a more in-depth look at the timestamp data for February, for device 4, there is missing data for the last 3 days of the mont"
   ]
  },
  {
   "cell_type": "code",
   "execution_count": 31,
   "id": "bb02d43d",
   "metadata": {},
   "outputs": [
    {
     "name": "stdout",
     "output_type": "stream",
     "text": [
      "+---------+-------------------+-------------------+\n",
      "|device_id|min_heartrate      |max_heartrate      |\n",
      "+---------+-------------------+-------------------+\n",
      "|0        |2020-02-01 00:00:00|2020-02-29 23:00:00|\n",
      "|1        |2020-02-01 00:00:00|2020-02-29 23:00:00|\n",
      "|3        |2020-02-01 00:00:00|2020-02-29 23:00:00|\n",
      "|2        |2020-02-01 00:00:00|2020-02-29 23:00:00|\n",
      "|4        |2020-02-01 00:00:00|2020-02-26 23:00:00|\n",
      "+---------+-------------------+-------------------+\n",
      "\n"
     ]
    }
   ],
   "source": [
    "no_feb_device_4 = df.filter(df.month == 2)\n",
    "no_feb_device_4.groupBy(\"device_id\") \\\n",
    "    .agg(f.min(\"timestamp\").alias(\"min_heartrate\"), \\\n",
    "         f.max(\"timestamp\").alias(\"max_heartrate\"), \\\n",
    "    ) \\\n",
    "    .show(truncate=False)"
   ]
  },
  {
   "cell_type": "code",
   "execution_count": 45,
   "id": "5a6d50b7",
   "metadata": {},
   "outputs": [],
   "source": [
    "# convert pandas as pd\n",
    "import pandas as pd\n",
    "import numpy as np\n",
    "import matplotlib.pyplot as plt"
   ]
  },
  {
   "cell_type": "code",
   "execution_count": 35,
   "id": "f6a853ff-81b3-41af-81e9-33ca6944df52",
   "metadata": {},
   "outputs": [
    {
     "data": {
      "text/html": [
       "<div>\n",
       "<style scoped>\n",
       "    .dataframe tbody tr th:only-of-type {\n",
       "        vertical-align: middle;\n",
       "    }\n",
       "\n",
       "    .dataframe tbody tr th {\n",
       "        vertical-align: top;\n",
       "    }\n",
       "\n",
       "    .dataframe thead th {\n",
       "        text-align: right;\n",
       "    }\n",
       "</style>\n",
       "<table border=\"1\" class=\"dataframe\">\n",
       "  <thead>\n",
       "    <tr style=\"text-align: right;\">\n",
       "      <th></th>\n",
       "      <th>device_id</th>\n",
       "      <th>device_type</th>\n",
       "      <th>heartrate</th>\n",
       "      <th>name</th>\n",
       "      <th>time</th>\n",
       "      <th>timestamp</th>\n",
       "      <th>month</th>\n",
       "    </tr>\n",
       "  </thead>\n",
       "  <tbody>\n",
       "    <tr>\n",
       "      <th>0</th>\n",
       "      <td>0</td>\n",
       "      <td>null</td>\n",
       "      <td>52.813907</td>\n",
       "      <td>Deborah Powell</td>\n",
       "      <td>1.577837e+09</td>\n",
       "      <td>2020-01-01 00:00:00</td>\n",
       "      <td>1</td>\n",
       "    </tr>\n",
       "    <tr>\n",
       "      <th>1</th>\n",
       "      <td>0</td>\n",
       "      <td>null</td>\n",
       "      <td>53.907890</td>\n",
       "      <td>Deborah Powell</td>\n",
       "      <td>1.577840e+09</td>\n",
       "      <td>2020-01-01 01:00:00</td>\n",
       "      <td>1</td>\n",
       "    </tr>\n",
       "    <tr>\n",
       "      <th>2</th>\n",
       "      <td>0</td>\n",
       "      <td>null</td>\n",
       "      <td>52.712959</td>\n",
       "      <td>Deborah Powell</td>\n",
       "      <td>1.577844e+09</td>\n",
       "      <td>2020-01-01 02:00:00</td>\n",
       "      <td>1</td>\n",
       "    </tr>\n",
       "    <tr>\n",
       "      <th>3</th>\n",
       "      <td>0</td>\n",
       "      <td>null</td>\n",
       "      <td>52.288042</td>\n",
       "      <td>Deborah Powell</td>\n",
       "      <td>1.577848e+09</td>\n",
       "      <td>2020-01-01 03:00:00</td>\n",
       "      <td>1</td>\n",
       "    </tr>\n",
       "    <tr>\n",
       "      <th>4</th>\n",
       "      <td>0</td>\n",
       "      <td>null</td>\n",
       "      <td>52.515610</td>\n",
       "      <td>Deborah Powell</td>\n",
       "      <td>1.577851e+09</td>\n",
       "      <td>2020-01-01 04:00:00</td>\n",
       "      <td>1</td>\n",
       "    </tr>\n",
       "  </tbody>\n",
       "</table>\n",
       "</div>"
      ],
      "text/plain": [
       "   device_id device_type  heartrate            name          time  \\\n",
       "0          0        null  52.813907  Deborah Powell  1.577837e+09   \n",
       "1          0        null  53.907890  Deborah Powell  1.577840e+09   \n",
       "2          0        null  52.712959  Deborah Powell  1.577844e+09   \n",
       "3          0        null  52.288042  Deborah Powell  1.577848e+09   \n",
       "4          0        null  52.515610  Deborah Powell  1.577851e+09   \n",
       "\n",
       "            timestamp  month  \n",
       "0 2020-01-01 00:00:00      1  \n",
       "1 2020-01-01 01:00:00      1  \n",
       "2 2020-01-01 02:00:00      1  \n",
       "3 2020-01-01 03:00:00      1  \n",
       "4 2020-01-01 04:00:00      1  "
      ]
     },
     "execution_count": 35,
     "metadata": {},
     "output_type": "execute_result"
    }
   ],
   "source": [
    "df1 = df.toPandas()\n",
    "df1.head()"
   ]
  },
  {
   "cell_type": "code",
   "execution_count": 39,
   "id": "64461705-ec62-465c-a749-e535caa0ae1a",
   "metadata": {},
   "outputs": [],
   "source": [
    "jan_pd_df = jan_new_df.toPandas()"
   ]
  },
  {
   "cell_type": "code",
   "execution_count": null,
   "id": "78d309e0-b205-4d6a-9351-ff86ee9965e0",
   "metadata": {},
   "outputs": [],
   "source": []
  },
  {
   "cell_type": "code",
   "execution_count": null,
   "id": "993eac2e-f26b-4540-8171-87c9478b630b",
   "metadata": {},
   "outputs": [],
   "source": []
  }
 ],
 "metadata": {
  "kernelspec": {
   "display_name": "Python 3",
   "language": "python",
   "name": "python3"
  },
  "language_info": {
   "codemirror_mode": {
    "name": "ipython",
    "version": 3
   },
   "file_extension": ".py",
   "mimetype": "text/x-python",
   "name": "python",
   "nbconvert_exporter": "python",
   "pygments_lexer": "ipython3",
   "version": "3.9.4"
  }
 },
 "nbformat": 4,
 "nbformat_minor": 5
}
