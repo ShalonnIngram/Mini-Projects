{
 "cells": [
  {
   "cell_type": "markdown",
   "metadata": {},
   "source": [
    "# #DataEngieering Analysis on Twitter"
   ]
  },
  {
   "cell_type": "code",
   "execution_count": 3,
   "metadata": {},
   "outputs": [],
   "source": [
    "import os\n",
    "import json\n",
    "import tweepy\n",
    "import pandas as pd\n",
    "import matplotlib.pyplot as plt\n",
    "import seaborn as sns\n",
    "from pprint import pprint\n",
    "# from secrets import *"
   ]
  },
  {
   "cell_type": "markdown",
   "metadata": {},
   "source": [
    "## 1. Creating connection with Twitters API"
   ]
  },
  {
   "cell_type": "code",
   "execution_count": 4,
   "metadata": {},
   "outputs": [],
   "source": [
    "CONSUMER_KEY = 'consumer_key'\n",
    "CONSUMER_SECRET = 'consumer_secret'\n",
    "BEARER_TOKEN = 'bearer_token'\n",
    "ACCESS_TOKEN = 'access_token'\n",
    "ACCESS_SECRET = 'access_secret'"
   ]
  },
  {
   "cell_type": "code",
   "execution_count": 5,
   "metadata": {},
   "outputs": [],
   "source": [
    "# authenticate to the service we're accessing\n",
    "auth = tweepy.OAuthHandler(CONSUMER_KEY, CONSUMER_SECRET)\n",
    "auth.set_access_token(ACCESS_TOKEN, ACCESS_SECRET)"
   ]
  },
  {
   "cell_type": "markdown",
   "metadata": {},
   "source": [
    "## 2. Creating search parameters to analyze tweets"
   ]
  },
  {
   "cell_type": "code",
   "execution_count": 12,
   "metadata": {},
   "outputs": [],
   "source": [
    "api = tweepy.API(auth)\n",
    "\n",
    "# specifying search parameters\n",
    "search_words = 'DataEngineering' or 'dataengineering' + '-filter:retweets'\n",
    "date_since = '2020-01-01'\n",
    "language = 'en'"
   ]
  },
  {
   "cell_type": "markdown",
   "metadata": {},
   "source": [
    "## 3. Extracting with specified parameters tweets"
   ]
  },
  {
   "cell_type": "code",
   "execution_count": 86,
   "metadata": {},
   "outputs": [],
   "source": [
    "results = []\n",
    "for tweet in tweepy.Cursor(api.search, q=search_words, lang=language, since=date_since).items(2000):\n",
    "    results.append(tweet)"
   ]
  },
  {
   "cell_type": "markdown",
   "metadata": {},
   "source": [
    "## 4. Create a list of all hashtags"
   ]
  },
  {
   "cell_type": "code",
   "execution_count": 75,
   "metadata": {},
   "outputs": [],
   "source": [
    "hashtags = []\n",
    "for tweet in range(len(results)):\n",
    "    hashtag = results[tweet].entities.get('hashtags')\n",
    "    for i in range(len(hashtag)):\n",
    "        htag = hashtag[i]['text']\n",
    "        hashtags.append(htag)"
   ]
  },
  {
   "cell_type": "markdown",
   "metadata": {},
   "source": [
    "## 5. Put all hashtags into pandas dataframe "
   ]
  },
  {
   "cell_type": "code",
   "execution_count": 76,
   "metadata": {},
   "outputs": [],
   "source": [
    "df = pd.DataFrame(hashtags,columns=['Hashtags'])"
   ]
  },
  {
   "cell_type": "markdown",
   "metadata": {},
   "source": [
    "## 6. Examine count of occurrences of hashtags"
   ]
  },
  {
   "cell_type": "code",
   "execution_count": 77,
   "metadata": {},
   "outputs": [
    {
     "name": "stdout",
     "output_type": "stream",
     "text": [
      "Hashtags         Hashtags       \n",
      "DataEngineering  DataEngineering    662\n",
      "MachineLearning  MachineLearning    351\n",
      "DataScience      DataScience        331\n",
      "DevOps           DevOps             213\n",
      "Python           Python             212\n",
      "Name: Hashtags, dtype: int64\n"
     ]
    }
   ],
   "source": [
    "hashtag_count = df['Hashtags'].groupby(df['Hashtags']).value_counts(ascending=True).nlargest(5)\n",
    "print(hashtag_count)"
   ]
  },
  {
   "cell_type": "markdown",
   "metadata": {},
   "source": [
    "## 7. Data Viz"
   ]
  },
  {
   "cell_type": "code",
   "execution_count": 81,
   "metadata": {},
   "outputs": [
    {
     "data": {
      "image/png": "[encoded data removed]",
      "text/plain": [
       "<Figure size 864x432 with 1 Axes>"
      ]
     },
     "metadata": {},
     "output_type": "display_data"
    }
   ],
   "source": [
    "sns.set(font_scale=1.0)\n",
    "df['Hashtags'].value_counts().nlargest(5).plot(kind='bar', figsize=(12, 6), rot=0)\n",
    "plt.xlabel(\"Hashtag\", labelpad=14)\n",
    "plt.ylabel(\"Hashtags Count\", labelpad=14)\n",
    "plt.title(\"Top 5 Twitter Hashtags Used with #DataEngineering Since 2020-01-01\", y=1.02);"
   ]
  }
 ],
 "metadata": {
  "kernelspec": {
   "display_name": "Python 3",
   "language": "python",
   "name": "python3"
  },
  "language_info": {
   "codemirror_mode": {
    "name": "ipython",
    "version": 3
   },
   "file_extension": ".py",
   "mimetype": "text/x-python",
   "name": "python",
   "nbconvert_exporter": "python",
   "pygments_lexer": "ipython3",
   "version": "3.8.5"
  }
 },
 "nbformat": 4,
 "nbformat_minor": 4
}
