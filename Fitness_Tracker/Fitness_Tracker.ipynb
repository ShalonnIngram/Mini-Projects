{
 "cells": [
  {
   "cell_type": "code",
   "execution_count": 1,
   "id": "6452eaff",
   "metadata": {},
   "outputs": [],
   "source": [
    "from os import environ"
   ]
  },
  {
   "cell_type": "code",
   "execution_count": 2,
   "id": "bc9aece7",
   "metadata": {},
   "outputs": [],
   "source": [
    "pyspark_args_str = \"\"\n",
    "pyspark_args_str += '--packages \"io.delta:delta-core_2.12:1.0.0\" '\n",
    "pyspark_args_str += '--conf \"spark.sql.extensions=io.delta.sql.DeltaSparkSessionExtension\" '\n",
    "pyspark_args_str += '--conf \"spark.sql.catalog.spark_catalog=org.apache.spark.sql.delta.catalog.DeltaCatalog\" '\n",
    "pyspark_args_str += 'pyspark-shell'"
   ]
  },
  {
   "cell_type": "code",
   "execution_count": 3,
   "id": "dbea120e",
   "metadata": {},
   "outputs": [
    {
     "data": {
      "text/plain": [
       "'--packages \"io.delta:delta-core_2.12:1.0.0\" --conf \"spark.sql.extensions=io.delta.sql.DeltaSparkSessionExtension\" --conf \"spark.sql.catalog.spark_catalog=org.apache.spark.sql.delta.catalog.DeltaCatalog\" pyspark-shell'"
      ]
     },
     "execution_count": 3,
     "metadata": {},
     "output_type": "execute_result"
    }
   ],
   "source": [
    "pyspark_args_str"
   ]
  },
  {
   "cell_type": "code",
   "execution_count": 4,
   "id": "90c85977",
   "metadata": {},
   "outputs": [],
   "source": [
    "environ['PYSPARK_SUBMIT_ARGS'] = pyspark_args_str\n",
    "  \n",
    "from pyspark import sql\n",
    "\n",
    "spark = sql.SparkSession.builder \\\n",
    "        .master(\"local[8]\") \\\n",
    "        .getOrCreate()\n",
    "\n",
    "\n",
    "def display(dataframe):\n",
    "    return dataframe.show()"
   ]
  },
  {
   "cell_type": "code",
   "execution_count": 5,
   "id": "9dc1bdbb",
   "metadata": {},
   "outputs": [
    {
     "data": {
      "text/html": [
       "\n",
       "            <div>\n",
       "                <p><b>SparkSession - in-memory</b></p>\n",
       "                \n",
       "        <div>\n",
       "            <p><b>SparkContext</b></p>\n",
       "\n",
       "            <p><a href=\"http://08fd9ac1772d:4040\">Spark UI</a></p>\n",
       "\n",
       "            <dl>\n",
       "              <dt>Version</dt>\n",
       "                <dd><code>v3.1.2</code></dd>\n",
       "              <dt>Master</dt>\n",
       "                <dd><code>local[8]</code></dd>\n",
       "              <dt>AppName</dt>\n",
       "                <dd><code>pyspark-shell</code></dd>\n",
       "            </dl>\n",
       "        </div>\n",
       "        \n",
       "            </div>\n",
       "        "
      ],
      "text/plain": [
       "<pyspark.sql.session.SparkSession at 0x7f82a50f4100>"
      ]
     },
     "execution_count": 5,
     "metadata": {},
     "output_type": "execute_result"
    }
   ],
   "source": [
    "spark"
   ]
  },
  {
   "cell_type": "markdown",
   "id": "19811a69",
   "metadata": {},
   "source": [
    "#### 1. Import Jan 2020 - May 2020 & late Feb 2020 data from S3 bucket"
   ]
  },
  {
   "cell_type": "code",
   "execution_count": 6,
   "id": "f07597b0",
   "metadata": {},
   "outputs": [],
   "source": [
    "from pyspark.sql.session import SparkSession\n",
    "from urllib.request import urlretrieve\n",
    "import time\n",
    "\n",
    "BASE_URL = \"https://hadoop-and-big-data.s3-us-west-2.amazonaws.com/fitness-tracker/\""
   ]
  },
  {
   "cell_type": "code",
   "execution_count": 33,
   "id": "6d3a77d9",
   "metadata": {},
   "outputs": [],
   "source": [
    "def _generate_file_handles(year: int, month: int, filePath: str, is_late: bool):\n",
    "    \"\"\"\n",
    "    if the file is late, add late to the end of the file path name, if not, return the file & filepath\n",
    "    \"\"\"\n",
    "    late = \"\"\n",
    "    if is_late:\n",
    "        late = \"_late\"\n",
    "    file = f\"health_tracker_data_{year}_{month}{late}.json\"\n",
    "    \n",
    "    dbfsPath = \"\"\n",
    "    if is_late:\n",
    "        dbfsPath += \"late/\"\n",
    "    filePath += file\n",
    "\n",
    "    return file, filePath"
   ]
  },
  {
   "cell_type": "code",
   "execution_count": 35,
   "id": "98e0e696",
   "metadata": {},
   "outputs": [],
   "source": [
    "def retrieve_data(year: int, month: int, filePath: str, is_late: bool = False) -> bool:\n",
    "    file, filePath = _generate_file_handles(year, month, filePath, is_late)\n",
    "    uri = BASE_URL + file\n",
    "\n",
    "    urlretrieve(uri, filePath)\n",
    "    return True"
   ]
  },
  {
   "cell_type": "code",
   "execution_count": 29,
   "id": "348d2584",
   "metadata": {},
   "outputs": [
    {
     "data": {
      "text/plain": [
       "True"
      ]
     },
     "execution_count": 29,
     "metadata": {},
     "output_type": "execute_result"
    }
   ],
   "source": [
    "# import january 2020 - may 2020 data\n",
    "retrieve_data(2020, 1, \"data/\")\n",
    "retrieve_data(2020, 2, \"data/\")\n",
    "retrieve_data(2020, 3, \"data/\")\n",
    "retrieve_data(2020, 4, \"data/\")\n",
    "retrieve_data(2020, 5, \"data/\")"
   ]
  },
  {
   "cell_type": "code",
   "execution_count": 39,
   "id": "8f001a2a",
   "metadata": {
    "scrolled": true
   },
   "outputs": [
    {
     "data": {
      "text/plain": [
       "True"
      ]
     },
     "execution_count": 39,
     "metadata": {},
     "output_type": "execute_result"
    }
   ],
   "source": [
    "# import late February 2020 data\n",
    "retrieve_data(2020, 2, \"data/\", True)"
   ]
  },
  {
   "cell_type": "code",
   "execution_count": 43,
   "id": "5c8d2eb6",
   "metadata": {
    "scrolled": false
   },
   "outputs": [],
   "source": [
    "jan_df = spark.read.json(\"data/health_tracker_data_2020_1.json\")\n",
    "feb_df = spark.read.json(\"data/health_tracker_data_2020_2.json\")\n",
    "mar_df = spark.read.json(\"data/health_tracker_data_2020_3.json\")\n",
    "apr_df = spark.read.json(\"data/health_tracker_data_2020_4.json\")\n",
    "may_df = spark.read.json(\"data/health_tracker_data_2020_5.json\")"
   ]
  },
  {
   "cell_type": "code",
   "execution_count": 38,
   "id": "4707bc63",
   "metadata": {},
   "outputs": [],
   "source": [
    "feb_late_df = spark.read.json(\"data/health_tracker_data_2020_2.json\")"
   ]
  },
  {
   "cell_type": "code",
   "execution_count": 65,
   "id": "756ade18",
   "metadata": {},
   "outputs": [],
   "source": [
    "from pyspark.sql.functions import lit\n",
    "# add device_type column to jan 2020 data\n",
    "jan_new_df = jan_df.withColumn('device_type', lit('null'))\n",
    "jan_new_df = jan_new_df.select('device_id','device_type','heartrate', 'name', 'time' )\n",
    "\n",
    "# add device_type column to feb 2020 data \n",
    "feb_new_df = feb_df.withColumn('device_type', lit('null'))\n",
    "feb_new_df = feb_new_df.select('device_id','device_type','heartrate', 'name', 'time' )\n",
    "\n",
    "# add device_type column to feb_late 2020 data\n",
    "feb_late_new_df = feb_late_df.withColumn('device_type', lit('null'))\n",
    "feb_late_new_df = feb_late_new_df.select('device_id','device_type','heartrate', 'name', 'time' )"
   ]
  },
  {
   "cell_type": "code",
   "execution_count": 92,
   "id": "12775b94",
   "metadata": {},
   "outputs": [],
   "source": [
    "from functools import reduce\n",
    "from pyspark.sql import DataFrame\n",
    "df_list = [jan_new_df, feb_new_df, feb_late_new_df, mar_df, apr_df, may_df]\n",
    "df = reduce(DataFrame.unionAll, df_list)"
   ]
  },
  {
   "cell_type": "code",
   "execution_count": 93,
   "id": "b13ab0c8",
   "metadata": {},
   "outputs": [
    {
     "data": {
      "text/plain": [
       "21576"
      ]
     },
     "execution_count": 93,
     "metadata": {},
     "output_type": "execute_result"
    }
   ],
   "source": [
    "df.count()"
   ]
  },
  {
   "cell_type": "code",
   "execution_count": 114,
   "id": "3d196eb1",
   "metadata": {},
   "outputs": [
    {
     "name": "stdout",
     "output_type": "stream",
     "text": [
      "+---------+-----+\n",
      "|device_id|count|\n",
      "+---------+-----+\n",
      "|        0|  696|\n",
      "|        1|  696|\n",
      "|        3|  696|\n",
      "|        2|  696|\n",
      "|        4|  624|\n",
      "+---------+-----+\n",
      "\n"
     ]
    }
   ],
   "source": [
    "feb_df.groupBy(\"device_id\").count().show()"
   ]
  },
  {
   "cell_type": "code",
   "execution_count": 113,
   "id": "30c08776",
   "metadata": {},
   "outputs": [
    {
     "name": "stdout",
     "output_type": "stream",
     "text": [
      "+--------------+-----+\n",
      "|          name|count|\n",
      "+--------------+-----+\n",
      "|     Sam Knopp|  696|\n",
      "|     James Hou|  624|\n",
      "|   Minh Nguyen|  696|\n",
      "|Kristin Vasser|  696|\n",
      "|Deborah Powell|  696|\n",
      "+--------------+-----+\n",
      "\n"
     ]
    }
   ],
   "source": [
    "feb_df.groupBy(\"name\").count().show()"
   ]
  },
  {
   "cell_type": "code",
   "execution_count": 118,
   "id": "f34cd059",
   "metadata": {},
   "outputs": [
    {
     "name": "stdout",
     "output_type": "stream",
     "text": [
      "+---------+-----------+-------------+--------------+-----------+\n",
      "|device_id|device_type|    heartrate|          name|       time|\n",
      "+---------+-----------+-------------+--------------+-----------+\n",
      "|        0|       null|52.8139067501|Deborah Powell|1.5778368E9|\n",
      "|        0|       null|53.9078900098|Deborah Powell|1.5778404E9|\n",
      "|        0|       null|52.7129593616|Deborah Powell| 1.577844E9|\n",
      "|        0|       null|52.2880422685|Deborah Powell|1.5778476E9|\n",
      "|        0|       null|52.5156095386|Deborah Powell|1.5778512E9|\n",
      "|        0|       null|53.6280743846|Deborah Powell|1.5778548E9|\n",
      "|        0|       null|52.1760037066|Deborah Powell|1.5778584E9|\n",
      "|        0|       null|90.0456721836|Deborah Powell| 1.577862E9|\n",
      "|        0|       null|89.4695644522|Deborah Powell|1.5778656E9|\n",
      "|        0|       null|88.1490304138|Deborah Powell|1.5778692E9|\n",
      "|        0|       null|86.3092976213|Deborah Powell|1.5778728E9|\n",
      "|        0|       null|86.6672980008|Deborah Powell|1.5778764E9|\n",
      "|        0|       null|89.2044154758|Deborah Powell|  1.57788E9|\n",
      "|        0|       null|88.8691678316|Deborah Powell|1.5778836E9|\n",
      "|        0|       null|87.7252170634|Deborah Powell|1.5778872E9|\n",
      "|        0|       null|87.8357187561|Deborah Powell|1.5778908E9|\n",
      "|        0|       null|87.1769562648|Deborah Powell|1.5778944E9|\n",
      "|        0|       null|88.3403107931|Deborah Powell| 1.577898E9|\n",
      "|        0|       null|88.9083484735|Deborah Powell|1.5779016E9|\n",
      "|        0|       null| 87.921434203|Deborah Powell|1.5779052E9|\n",
      "+---------+-----------+-------------+--------------+-----------+\n",
      "only showing top 20 rows\n",
      "\n"
     ]
    }
   ],
   "source": [
    "df.show()"
   ]
  },
  {
   "cell_type": "code",
   "execution_count": null,
   "id": "930b1fca",
   "metadata": {},
   "outputs": [],
   "source": []
  }
 ],
 "metadata": {
  "kernelspec": {
   "display_name": "Python 3",
   "language": "python",
   "name": "python3"
  },
  "language_info": {
   "codemirror_mode": {
    "name": "ipython",
    "version": 3
   },
   "file_extension": ".py",
   "mimetype": "text/x-python",
   "name": "python",
   "nbconvert_exporter": "python",
   "pygments_lexer": "ipython3",
   "version": "3.9.4"
  }
 },
 "nbformat": 4,
 "nbformat_minor": 5
}
